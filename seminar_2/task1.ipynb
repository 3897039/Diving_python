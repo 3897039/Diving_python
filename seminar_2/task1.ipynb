{
 "cells": [
  {
   "cell_type": "markdown",
   "metadata": {},
   "source": [
    "Напишите программу, которая получает целое число и \n",
    "возвращает его шестнадцатеричное строковое представление. \n",
    "Функцию hex используйте для проверки своего результата."
   ]
  },
  {
   "cell_type": "code",
   "execution_count": 2,
   "metadata": {},
   "outputs": [],
   "source": [
    "def hex(num):\n",
    "    hex_digits = \"0123456789abcdef\"\n",
    "    hex_str = \"\"\n",
    "    while num > 0:\n",
    "        hex_str = hex_digits[num % 16] + hex_str\n",
    "        num = num // 16\n",
    "    return hex_str"
   ]
  },
  {
   "cell_type": "code",
   "execution_count": 3,
   "metadata": {},
   "outputs": [
    {
     "name": "stdout",
     "output_type": "stream",
     "text": [
      "Шестнадцатеричное строковое представление числа 255 - ff\n"
     ]
    }
   ],
   "source": [
    "num = 255\n",
    "hex_str = hex(num)\n",
    "print(f\"Шестнадцатеричное строковое представление числа {num} - {hex_str}\")"
   ]
  }
 ],
 "metadata": {
  "kernelspec": {
   "display_name": "Python 3",
   "language": "python",
   "name": "python3"
  },
  "language_info": {
   "codemirror_mode": {
    "name": "ipython",
    "version": 3
   },
   "file_extension": ".py",
   "mimetype": "text/x-python",
   "name": "python",
   "nbconvert_exporter": "python",
   "pygments_lexer": "ipython3",
   "version": "3.12.0"
  }
 },
 "nbformat": 4,
 "nbformat_minor": 2
}
