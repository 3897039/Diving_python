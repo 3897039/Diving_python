{
 "cells": [
  {
   "cell_type": "markdown",
   "metadata": {},
   "source": [
    "Напишите программу, которая принимает две строки вида “a/b” - \n",
    "дробь с числителем и знаменателем. Программа должна возвращать сумму \n",
    "и произведение* дробей. Для проверки своего кода используйте модуль fractions"
   ]
  },
  {
   "cell_type": "code",
   "execution_count": 2,
   "metadata": {},
   "outputs": [],
   "source": [
    "def fractions(frac1_str, frac2_str):\n",
    "    num1, denom1 = map(int, frac1_str.split(\"/\"))\n",
    "    num2, denom2 = map(int, frac2_str.split(\"/\"))\n",
    "    \n",
    "    sum_frac_num = num1 * denom2 + num2 * denom1\n",
    "    sum_frac_denom = denom1 * denom2\n",
    "    sum_frac = (sum_frac_num, sum_frac_denom)\n",
    "\n",
    "    prod_frac_num = num1 * num2\n",
    "    prod_frac_denom = denom1 * denom2\n",
    "    prod_frac = (prod_frac_num, prod_frac_denom)\n",
    "\n",
    "    return sum_frac, prod_frac"
   ]
  },
  {
   "cell_type": "code",
   "execution_count": 4,
   "metadata": {},
   "outputs": [
    {
     "name": "stdout",
     "output_type": "stream",
     "text": [
      "Сумма дробей 7/4 и 2/5 - 43/20\n",
      "Произведение дробей 7/4 и 2/5 - 14/20\n"
     ]
    }
   ],
   "source": [
    "frac1_str = \"7/4\"\n",
    "frac2_str = \"2/5\"\n",
    "\n",
    "sum_frac, prod_frac = fractions(frac1_str, frac2_str)\n",
    "\n",
    "print(f\"Сумма дробей {frac1_str} и {frac2_str} - {sum_frac[0]}/{sum_frac[1]}\")\n",
    "print(f\"Произведение дробей {frac1_str} и {frac2_str} - {prod_frac[0]}/{prod_frac[1]}\")"
   ]
  }
 ],
 "metadata": {
  "kernelspec": {
   "display_name": "Python 3",
   "language": "python",
   "name": "python3"
  },
  "language_info": {
   "codemirror_mode": {
    "name": "ipython",
    "version": 3
   },
   "file_extension": ".py",
   "mimetype": "text/x-python",
   "name": "python",
   "nbconvert_exporter": "python",
   "pygments_lexer": "ipython3",
   "version": "3.12.0"
  }
 },
 "nbformat": 4,
 "nbformat_minor": 2
}
