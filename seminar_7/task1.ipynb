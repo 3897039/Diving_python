{
 "cells": [
  {
   "cell_type": "markdown",
   "metadata": {},
   "source": [
    "Напишите функцию группового переименования файлов. Она должна:\n",
    "a. принимать параметр желаемое конечное имя файлов. При переименовании в конце имени добавляется порядковый номер.\n",
    "b. принимать параметр количество цифр в порядковом номере.\n",
    "c. принимать параметр расширение исходного файла. Переименование должно работать только для этих файлов внутри каталога.\n",
    "d. принимать параметр расширение конечного файла.\n",
    "e. принимать диапазон сохраняемого оригинального имени. Например для диапазона [3, 6] берутся буквы с 3 по 6 из исходного имени файла. К ним прибавляется желаемое конечное имя, если оно передано. Далее счётчик файлов и расширение."
   ]
  },
  {
   "cell_type": "code",
   "execution_count": 4,
   "metadata": {},
   "outputs": [],
   "source": [
    "import os"
   ]
  },
  {
   "cell_type": "code",
   "execution_count": 5,
   "metadata": {},
   "outputs": [],
   "source": [
    "def rename_files(directory: str,\n",
    "                 new_name: str,\n",
    "                 length_num: int,\n",
    "                 extension_initial: str,\n",
    "                 extension_finite: str,\n",
    "                 name_original: range = (0, 4),):\n",
    "    count_for_name = 1\n",
    "    if not os.path.exists(directory) or not os.path:\n",
    "        os.mkdir(directory)\n",
    "    for file in os.listdir(directory):\n",
    "        if file.endswith(extension_initial):\n",
    "            letters_origin = os.path.splitext(file)[0][name_original[0]:name_original[1]]\n",
    "            new_file_name = f'{letters_origin}{new_name}{str(count_for_name).zfill(length_num)}{extension_finite}'\n",
    "            os.rename(os.path.join(directory, file), os.path.join(directory, new_file_name))\n",
    "            count_for_name += 1"
   ]
  },
  {
   "cell_type": "code",
   "execution_count": 6,
   "metadata": {},
   "outputs": [],
   "source": [
    "if __name__ == '__main__':\n",
    "    rename_files('new_file', 3, '.txt', '.md', [1, 3], './folder')"
   ]
  }
 ],
 "metadata": {
  "kernelspec": {
   "display_name": "Python 3",
   "language": "python",
   "name": "python3"
  },
  "language_info": {
   "codemirror_mode": {
    "name": "ipython",
    "version": 3
   },
   "file_extension": ".py",
   "mimetype": "text/x-python",
   "name": "python",
   "nbconvert_exporter": "python",
   "pygments_lexer": "ipython3",
   "version": "3.12.0"
  }
 },
 "nbformat": 4,
 "nbformat_minor": 2
}
