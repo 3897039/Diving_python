{
 "cells": [
  {
   "cell_type": "markdown",
   "metadata": {},
   "source": [
    "Треугольник существует только тогда, когда сумма любых двух его сторон больше третьей. \n",
    "Дано a, b, c - стороны предполагаемого треугольника. \n",
    "Требуется сравнить длину каждого отрезка-стороны с суммой двух других. \n",
    "Если хотя бы в одном случае отрезок окажется больше суммы двух других, \n",
    "то треугольника с такими сторонами не существует. \n",
    "Отдельно сообщить является ли треугольник разносторонним, равнобедренным или равносторонним."
   ]
  },
  {
   "cell_type": "code",
   "execution_count": 1,
   "metadata": {},
   "outputs": [],
   "source": [
    "def triangle(a, b, c):\n",
    "    if a + b <= c or a + c <= b or b + c <= a:\n",
    "        return \"Треугольник с такими сторонами не существует\"\n",
    "\n",
    "    if a != b and b != c and a != c:\n",
    "        return \"Треугольник разносторонний\"\n",
    "    elif a == b and b == c:\n",
    "        return \"Треугольник равносторонний\"\n",
    "    else:\n",
    "        return \"Треугольник равнобедренный\""
   ]
  },
  {
   "cell_type": "code",
   "execution_count": 2,
   "metadata": {},
   "outputs": [
    {
     "name": "stdout",
     "output_type": "stream",
     "text": [
      "Треугольник разносторонний\n"
     ]
    }
   ],
   "source": [
    "print(triangle(3, 4, 5))"
   ]
  },
  {
   "cell_type": "code",
   "execution_count": 3,
   "metadata": {},
   "outputs": [
    {
     "name": "stdout",
     "output_type": "stream",
     "text": [
      "Треугольник равносторонний\n"
     ]
    }
   ],
   "source": [
    "print(triangle(6, 6, 6))"
   ]
  },
  {
   "cell_type": "code",
   "execution_count": 4,
   "metadata": {},
   "outputs": [
    {
     "name": "stdout",
     "output_type": "stream",
     "text": [
      "Треугольник равнобедренный\n"
     ]
    }
   ],
   "source": [
    "print(triangle(5, 3, 3))"
   ]
  }
 ],
 "metadata": {
  "kernelspec": {
   "display_name": "Python 3",
   "language": "python",
   "name": "python3"
  },
  "language_info": {
   "codemirror_mode": {
    "name": "ipython",
    "version": 3
   },
   "file_extension": ".py",
   "mimetype": "text/x-python",
   "name": "python",
   "nbconvert_exporter": "python",
   "pygments_lexer": "ipython3",
   "version": "3.12.0"
  }
 },
 "nbformat": 4,
 "nbformat_minor": 2
}
