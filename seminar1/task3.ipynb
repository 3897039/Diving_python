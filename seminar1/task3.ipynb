{
 "cells": [
  {
   "cell_type": "markdown",
   "metadata": {},
   "source": [
    "Программа загадывает число от 0 до 1000. Необходимо угадать число за 10 попыток. \n",
    "Программа должна подсказывать “больше” или “меньше” после каждой попытки. \n",
    "Для генерации случайного числа используйте код:\n",
    "from random import randintnum = randint(LOWER_LIMIT, UPPER_LIMIT)"
   ]
  },
  {
   "cell_type": "code",
   "execution_count": 3,
   "metadata": {},
   "outputs": [],
   "source": [
    "import random"
   ]
  },
  {
   "cell_type": "code",
   "execution_count": 4,
   "metadata": {},
   "outputs": [],
   "source": [
    "class RandomNumApi:\n",
    "    def __init__(self, name: str) -> None:\n",
    "        self.name = name\n",
    "\n",
    "    def starting(self):\n",
    "        print(f'Hello fellow {self.name}')\n",
    "\n",
    "    @staticmethod\n",
    "    def num_randomizer() -> int:\n",
    "        return random.randint(0, 1000)\n",
    "\n",
    "    @staticmethod\n",
    "    def verify_number(num) -> int:\n",
    "        if not isinstance(num, int) and not 1 <= num <= 100:\n",
    "            raise ValueError('Wrong type of number, try again')\n",
    "        else:\n",
    "            return number\n",
    "\n"
   ]
  },
  {
   "cell_type": "code",
   "execution_count": 5,
   "metadata": {},
   "outputs": [],
   "source": [
    "def guess():\n",
    "    count = 10\n",
    "    nb = RandomNumApi(input('Whats your name\\n'))\n",
    "    nb.starting()\n",
    "    while count != 0:\n",
    "        print('Put your number')\n",
    "        n = int(input())\n",
    "        if n < nb.num_randomizer():\n",
    "            print('Too small')\n",
    "            count -= 1\n",
    "        elif n > nb.num_randomizer():\n",
    "            print('Too big')\n",
    "            count -= 1\n",
    "        elif n == nb.num_randomizer():\n",
    "            print('Bulls eye')\n",
    "            break\n",
    "    else:\n",
    "        print('Sorry, you ran out of tries')\n"
   ]
  },
  {
   "cell_type": "code",
   "execution_count": 1,
   "metadata": {},
   "outputs": [
    {
     "ename": "NameError",
     "evalue": "name 'guess' is not defined",
     "output_type": "error",
     "traceback": [
      "\u001b[1;31m---------------------------------------------------------------------------\u001b[0m",
      "\u001b[1;31mNameError\u001b[0m                                 Traceback (most recent call last)",
      "Cell \u001b[1;32mIn[1], line 1\u001b[0m\n\u001b[1;32m----> 1\u001b[0m \u001b[43mguess\u001b[49m()\n",
      "\u001b[1;31mNameError\u001b[0m: name 'guess' is not defined"
     ]
    }
   ],
   "source": [
    "guess()"
   ]
  }
 ],
 "metadata": {
  "kernelspec": {
   "display_name": "Python 3",
   "language": "python",
   "name": "python3"
  },
  "language_info": {
   "codemirror_mode": {
    "name": "ipython",
    "version": 3
   },
   "file_extension": ".py",
   "mimetype": "text/x-python",
   "name": "python",
   "nbconvert_exporter": "python",
   "pygments_lexer": "ipython3",
   "version": "3.12.0"
  }
 },
 "nbformat": 4,
 "nbformat_minor": 2
}
