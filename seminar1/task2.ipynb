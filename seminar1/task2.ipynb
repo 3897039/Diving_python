{
 "cells": [
  {
   "cell_type": "markdown",
   "metadata": {},
   "source": [
    "Напишите код, который запрашивает число и сообщает является ли оно простым или составным. \n",
    "Используйте правило для проверки: “Число является простым, если делится нацело \n",
    "только на единицу и на себя”. Сделайте ограничение на ввод отрицательных чисел и чисел больше 100 тысяч."
   ]
  },
  {
   "cell_type": "code",
   "execution_count": 1,
   "metadata": {},
   "outputs": [],
   "source": [
    "def is_prime():\n",
    "    num = int(input(\"Введите число: \"))\n",
    "\n",
    "    if num < 0 or num > 100000:\n",
    "        return \"Введено недопустимое число. Допустимы числа от 0 до 100000.\"\n",
    "\n",
    "    if num == 1 or num == 0:\n",
    "        return \"Число не является ни простым, ни составным.\"\n",
    "\n",
    "    for i in range(2, int(num**0.5) + 1):\n",
    "        if num % i == 0:\n",
    "            return \"Число составное.\"\n",
    "    return \"Число простое.\"\n",
    "\n"
   ]
  },
  {
   "cell_type": "code",
   "execution_count": null,
   "metadata": {},
   "outputs": [],
   "source": [
    "print(is_prime())"
   ]
  }
 ],
 "metadata": {
  "kernelspec": {
   "display_name": "Python 3",
   "language": "python",
   "name": "python3"
  },
  "language_info": {
   "codemirror_mode": {
    "name": "ipython",
    "version": 3
   },
   "file_extension": ".py",
   "mimetype": "text/x-python",
   "name": "python",
   "nbconvert_exporter": "python",
   "pygments_lexer": "ipython3",
   "version": "3.12.0"
  }
 },
 "nbformat": 4,
 "nbformat_minor": 2
}
