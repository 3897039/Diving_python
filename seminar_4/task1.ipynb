{
 "cells": [
  {
   "cell_type": "markdown",
   "metadata": {},
   "source": [
    "Напишите функцию принимающую на вход только ключевые параметры \n",
    "и возвращающую словарь, где ключ — значение переданного аргумента, \n",
    "а значение — имя аргумента. \n",
    "Если ключ не хешируем, используйте его строковое представление."
   ]
  },
  {
   "cell_type": "code",
   "execution_count": 1,
   "metadata": {},
   "outputs": [],
   "source": [
    "def create_dict(**kwargs):\n",
    "    result = {}\n",
    "    for key, value in kwargs.items():\n",
    "        if hashable(key):\n",
    "            result[key] = value\n",
    "        else:\n",
    "            result[str(key)] = value\n",
    "    return result"
   ]
  }
 ],
 "metadata": {
  "kernelspec": {
   "display_name": "Python 3",
   "language": "python",
   "name": "python3"
  },
  "language_info": {
   "codemirror_mode": {
    "name": "ipython",
    "version": 3
   },
   "file_extension": ".py",
   "mimetype": "text/x-python",
   "name": "python",
   "nbconvert_exporter": "python",
   "pygments_lexer": "ipython3",
   "version": "3.12.0"
  }
 },
 "nbformat": 4,
 "nbformat_minor": 2
}
