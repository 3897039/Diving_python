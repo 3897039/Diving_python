{
 "cells": [
  {
   "cell_type": "markdown",
   "metadata": {},
   "source": [
    " Напишите программу банкомат.\n",
    "    Начальная сумма равна нулю\n",
    "    Допустимые действия: пополнить, снять, выйти\n",
    "    Сумма пополнения и снятия кратны 50 у.е.\n",
    "    Процент за снятие — 1.5% от суммы снятия, но не менее 30 и не более 600 у.е.\n",
    "    После каждой третей операции пополнения или снятия начисляются проценты - 3%\n",
    "    Нельзя снять больше, чем на счёте\n",
    "    При превышении суммы в 5 млн, вычитать налог на богатство 10% перед каждой операцией,\n",
    "     даже ошибочной\n",
    "    Любое действие выводит сумму денег\n"
   ]
  },
  {
   "cell_type": "code",
   "execution_count": 1,
   "metadata": {},
   "outputs": [],
   "source": [
    "from decimal import Decimal"
   ]
  },
  {
   "cell_type": "code",
   "execution_count": 2,
   "metadata": {},
   "outputs": [],
   "source": [
    "MIN_SUM = 50\n",
    "PERCENT_COMISSION = Decimal(0.015)\n",
    "MIN_COMISSION = 30\n",
    "MAX_COMISSION = 600\n",
    "BONUS = Decimal(0.03)\n",
    "LIMIT_BEFORE_TAX = 5_000_000\n",
    "TAX_RATE = Decimal(0.1)\n",
    "give_get = []\n",
    "def menu(balance: Decimal, count: int, is_flag: bool):\n",
    "    dct = {'1': 'пополнить счет',\n",
    "           '2': 'снять со счета',\n",
    "           '3': 'выйти из программы'}\n",
    "    for k, v in dct.items():\n",
    "        if k.isdigit():\n",
    "            print(f'{k}: {v}')\n",
    "        else:\n",
    "            print(v)\n",
    "    if balance > LIMIT_BEFORE_TAX:\n",
    "        balance *= (1 - TAX_RATE)\n",
    "    choice = input('Введите команду: ')\n",
    "    if choice == '3':\n",
    "        print('Баланс равен: ', balance)\n",
    "        is_flag = False\n",
    "        return balance, is_flag\n",
    "    elif choice == '1':\n",
    "        balance = give_money(balance)\n",
    "        count += 1\n",
    "    elif choice == '2':\n",
    "        balance = get_money(balance)\n",
    "        count += 1\n",
    "    else:\n",
    "        print('Неверная команда!')\n",
    "    if count % 3 == 0:\n",
    "        balance *= (1 + BONUS)\n",
    "    print('Баланс равен: ', balance, \"Операции: \", give_get)\n",
    "    return balance, is_flag\n",
    "def get_money(balance: Decimal):\n",
    "    money_to_get = Decimal(input('Введите сумму снятия: '))\n",
    "    percent = money_to_get * PERCENT_COMISSION\n",
    "\n",
    "    if money_to_get % MIN_SUM == 0:\n",
    "        if percent < MIN_COMISSION:\n",
    "            percent = MIN_COMISSION\n",
    "        elif percent > MAX_COMISSION:\n",
    "            percent = MAX_COMISSION\n",
    "\n",
    "        if (money_to_get + percent) <= balance:\n",
    "            give_get.append('-' + str(money_to_get))\n",
    "            return balance - (money_to_get + percent)\n",
    "        else:\n",
    "            print('Недостаточно средств')\n",
    "            return balance\n",
    "    else:\n",
    "        print('Ошибка снятия денег - сумма должна быть кратна 50')\n",
    "        return balance"
   ]
  },
  {
   "cell_type": "code",
   "execution_count": 3,
   "metadata": {},
   "outputs": [],
   "source": [
    "def give_money(balance: Decimal):\n",
    "    money_to_give = Decimal(input('Введите сумму пополнения: '))\n",
    "    if money_to_give % MIN_SUM == 0:\n",
    "        give_get.append('+' + str(money_to_give))\n",
    "        return balance + money_to_give\n",
    "    else:\n",
    "        print('Ошибка пополнения - сумма не кратная 50 у.е.')\n",
    "        return balance\n"
   ]
  },
  {
   "cell_type": "code",
   "execution_count": 4,
   "metadata": {},
   "outputs": [
    {
     "name": "stdout",
     "output_type": "stream",
     "text": [
      "Добро пожаловать в программу БАНКОМАТ\n",
      "1: пополнить счет\n",
      "2: снять со счета\n",
      "3: выйти из программы\n",
      "Баланс равен:  200 Операции:  ['+200']\n",
      "1: пополнить счет\n",
      "2: снять со счета\n",
      "3: выйти из программы\n",
      "Баланс равен:  200\n"
     ]
    }
   ],
   "source": [
    "if __name__ == '__main__':\n",
    "    print('Добро пожаловать в программу БАНКОМАТ')\n",
    "    balance = 0\n",
    "    count = 1\n",
    "    is_flag = True\n",
    "    while is_flag:\n",
    "        balance, is_flag = menu(balance, count, is_flag)"
   ]
  }
 ],
 "metadata": {
  "kernelspec": {
   "display_name": "Python 3",
   "language": "python",
   "name": "python3"
  },
  "language_info": {
   "codemirror_mode": {
    "name": "ipython",
    "version": 3
   },
   "file_extension": ".py",
   "mimetype": "text/x-python",
   "name": "python",
   "nbconvert_exporter": "python",
   "pygments_lexer": "ipython3",
   "version": "3.12.0"
  }
 },
 "nbformat": 4,
 "nbformat_minor": 2
}
