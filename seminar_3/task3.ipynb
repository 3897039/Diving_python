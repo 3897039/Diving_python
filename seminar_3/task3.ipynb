{
 "cells": [
  {
   "cell_type": "markdown",
   "metadata": {},
   "source": [
    "Создайте словарь со списком вещей для похода в качестве ключа и их массой в качестве значения. \n",
    "Определите какие вещи влезут в рюкзак передав его максимальную грузоподъёмность. \n",
    "Достаточно вернуть один допустимый вариант.\n",
    "*Верните все возможные варианты комплектации рюкзака."
   ]
  },
  {
   "cell_type": "code",
   "execution_count": 1,
   "metadata": {},
   "outputs": [],
   "source": [
    "def backpack(items, max_weight):\n",
    "    possible_items = []\n",
    "    for item, weight in items.items():\n",
    "        if weight <= max_weight:\n",
    "            possible_items.append(item)\n",
    "            max_weight -= weight\n",
    "    return possible_items"
   ]
  },
  {
   "cell_type": "code",
   "execution_count": 2,
   "metadata": {},
   "outputs": [
    {
     "name": "stdout",
     "output_type": "stream",
     "text": [
      "['water', 'equipment', 'food', 'clothes', 'first aid kit']\n"
     ]
    }
   ],
   "source": [
    "items = {'water': 2, 'equipment': 3, 'food': 3, 'clothes': 1, 'first aid kit': 1}\n",
    "max_weight = 10\n",
    "print(backpack(items, max_weight)) "
   ]
  }
 ],
 "metadata": {
  "kernelspec": {
   "display_name": "Python 3",
   "language": "python",
   "name": "python3"
  },
  "language_info": {
   "codemirror_mode": {
    "name": "ipython",
    "version": 3
   },
   "file_extension": ".py",
   "mimetype": "text/x-python",
   "name": "python",
   "nbconvert_exporter": "python",
   "pygments_lexer": "ipython3",
   "version": "3.12.0"
  }
 },
 "nbformat": 4,
 "nbformat_minor": 2
}
