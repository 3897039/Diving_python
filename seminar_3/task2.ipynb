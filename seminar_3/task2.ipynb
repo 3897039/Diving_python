{
 "cells": [
  {
   "cell_type": "markdown",
   "metadata": {},
   "source": [
    "В большой текстовой строке подсчитать количество встречаемых слов \n",
    "и вернуть 10 самых частых. Не учитывать знаки препинания и регистр символов. \n",
    "За основу возьмите любую статью из википедии или из документации к языку."
   ]
  },
  {
   "cell_type": "code",
   "execution_count": 1,
   "metadata": {},
   "outputs": [],
   "source": [
    "import re\n",
    "from collections import Counter"
   ]
  },
  {
   "cell_type": "code",
   "execution_count": 4,
   "metadata": {},
   "outputs": [],
   "source": [
    "def words(text):\n",
    "    words = re.findall(r'\\b\\w+\\b', text.lower())\n",
    "    return Counter(words).most_common(10)"
   ]
  },
  {
   "cell_type": "code",
   "execution_count": 5,
   "metadata": {},
   "outputs": [
    {
     "name": "stdout",
     "output_type": "stream",
     "text": [
      "[('язык', 3), ('и', 2), ('программи', 1), ('рования', 1), ('формальный', 1), ('предназначенный', 1), ('для', 1), ('записи', 1), ('компьютерных', 1), ('программ', 1)]\n"
     ]
    }
   ],
   "source": [
    "text = \"\"\"Язык программи́рования — формальный язык, предназначенный для записи компьютерных программ[1][2]. \n",
    "Язык программирования определяет набор лексических, синтаксических и семантических правил, \n",
    "определяющих внешний вид программы и действия, которые выполнит исполнитель (обычно — ЭВМ) под её управлением. \"\"\"\n",
    "print(words(text))"
   ]
  }
 ],
 "metadata": {
  "kernelspec": {
   "display_name": "Python 3",
   "language": "python",
   "name": "python3"
  },
  "language_info": {
   "codemirror_mode": {
    "name": "ipython",
    "version": 3
   },
   "file_extension": ".py",
   "mimetype": "text/x-python",
   "name": "python",
   "nbconvert_exporter": "python",
   "pygments_lexer": "ipython3",
   "version": "3.12.0"
  }
 },
 "nbformat": 4,
 "nbformat_minor": 2
}
