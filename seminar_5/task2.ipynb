{
 "cells": [
  {
   "cell_type": "markdown",
   "metadata": {},
   "source": [
    "Напишите однострочный генератор словаря, который принимает на вход три списка одинаковой длины: \n",
    "имена str, ставка int, премия str с указанием процентов вида “10.25%”. \n",
    "В результате получаем словарь с именем в качестве ключа и суммой премии в качестве значения.\n",
    "Сумма рассчитывается как ставка умноженная на процент премии"
   ]
  },
  {
   "cell_type": "code",
   "execution_count": 2,
   "metadata": {},
   "outputs": [],
   "source": [
    "def generate_dict(names_list, salaries_list, bonuses_list):\n",
    "    return {name: salary * (1 + float(bonus.strip('%')) / 100) for name, salary, bonus in zip(names_list, salaries_list, bonuses_list)}"
   ]
  },
  {
   "cell_type": "code",
   "execution_count": 3,
   "metadata": {},
   "outputs": [],
   "source": [
    "names = [\"Tanya\", \"Maks\", \"Helga\"]\n",
    "salaries = [2100, 500, 2000]\n",
    "bonuses = [\"15%\", \"11%\", \"20%\"]"
   ]
  },
  {
   "cell_type": "code",
   "execution_count": 4,
   "metadata": {},
   "outputs": [
    {
     "name": "stdout",
     "output_type": "stream",
     "text": [
      "{'Tanya': 2415.0, 'Maks': 555.0, 'Helga': 2400.0}\n"
     ]
    }
   ],
   "source": [
    "salary_dict = generate_dict(names, salaries, bonuses)\n",
    "print(salary_dict)"
   ]
  }
 ],
 "metadata": {
  "kernelspec": {
   "display_name": "Python 3",
   "language": "python",
   "name": "python3"
  },
  "language_info": {
   "codemirror_mode": {
    "name": "ipython",
    "version": 3
   },
   "file_extension": ".py",
   "mimetype": "text/x-python",
   "name": "python",
   "nbconvert_exporter": "python",
   "pygments_lexer": "ipython3",
   "version": "3.12.0"
  }
 },
 "nbformat": 4,
 "nbformat_minor": 2
}
