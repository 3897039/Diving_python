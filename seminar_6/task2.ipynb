{
 "cells": [
  {
   "cell_type": "markdown",
   "metadata": {},
   "source": [
    "Добавьте в пакет, созданный на семинаре шахматный модуль. \n",
    "Внутри него напишите код, решающий задачу о 8 ферзях. \n",
    "Известно, что на доске 8×8 можно расставить 8 ферзей так, чтобы они не били друг друга. \n",
    "Вам дана расстановка 8 ферзей на доске, определите, есть ли среди них пара бьющих друг друга. \n",
    "Программа получает на вход восемь пар чисел, каждое число от 1 до 8 - координаты 8 ферзей. \n",
    "Если ферзи не бьют друг друга верните истину, а если бьют - ложь."
   ]
  },
  {
   "cell_type": "code",
   "execution_count": 4,
   "metadata": {},
   "outputs": [],
   "source": [
    "def queen(positions):\n",
    "    for i in range(8):\n",
    "        for j in range(i+1, 8):\n",
    "            # проверка на наличие на одной строке или диагонали\n",
    "            if positions[i] == positions[j] or \\\n",
    "                positions[i] - i == positions[j] - j or \\\n",
    "                positions[i] + i == positions[j] + j:\n",
    "                return False\n",
    "    return True"
   ]
  }
 ],
 "metadata": {
  "kernelspec": {
   "display_name": "Python 3",
   "language": "python",
   "name": "python3"
  },
  "language_info": {
   "codemirror_mode": {
    "name": "ipython",
    "version": 3
   },
   "file_extension": ".py",
   "mimetype": "text/x-python",
   "name": "python",
   "nbconvert_exporter": "python",
   "pygments_lexer": "ipython3",
   "version": "3.12.0"
  }
 },
 "nbformat": 4,
 "nbformat_minor": 2
}
