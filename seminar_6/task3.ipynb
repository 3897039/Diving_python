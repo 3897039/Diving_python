{
 "cells": [
  {
   "cell_type": "markdown",
   "metadata": {},
   "source": [
    "Напишите функцию в шахматный модуль. Используйте генератор случайных чисел \n",
    "для случайной расстановки ферзей в задаче выше. \n",
    "Проверяйте различный случайные варианты и выведите 4 успешных расстановки."
   ]
  },
  {
   "cell_type": "code",
   "execution_count": 2,
   "metadata": {},
   "outputs": [],
   "source": [
    "def queen(positions):\n",
    "    for i in range(8):\n",
    "        for j in range(i+1, 8):\n",
    "            # проверка на наличие на одной строке или диагонали\n",
    "            if positions[i] == positions[j] or \\\n",
    "                positions[i] - i == positions[j] - j or \\\n",
    "                positions[i] + i == positions[j] + j:\n",
    "                return False\n",
    "    return True"
   ]
  },
  {
   "cell_type": "code",
   "execution_count": 3,
   "metadata": {},
   "outputs": [],
   "source": [
    "import random"
   ]
  },
  {
   "cell_type": "code",
   "execution_count": 5,
   "metadata": {},
   "outputs": [],
   "source": [
    "def position():\n",
    "    positions = list(range(1, 9))  \n",
    "    for i in range(4):  \n",
    "        random.shuffle(position)  \n",
    "        while not queen(positions):  \n",
    "            random.shuffle(positions)\n",
    "        print(positions)  "
   ]
  }
 ],
 "metadata": {
  "kernelspec": {
   "display_name": "Python 3",
   "language": "python",
   "name": "python3"
  },
  "language_info": {
   "codemirror_mode": {
    "name": "ipython",
    "version": 3
   },
   "file_extension": ".py",
   "mimetype": "text/x-python",
   "name": "python",
   "nbconvert_exporter": "python",
   "pygments_lexer": "ipython3",
   "version": "3.12.0"
  }
 },
 "nbformat": 4,
 "nbformat_minor": 2
}
